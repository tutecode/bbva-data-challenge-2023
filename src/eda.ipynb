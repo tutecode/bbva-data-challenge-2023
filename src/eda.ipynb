{
 "cells": [
  {
   "cell_type": "code",
   "execution_count": 48,
   "metadata": {},
   "outputs": [],
   "source": [
    "import sys\n",
    "import pandas as pd\n",
    "import os\n",
    "from pathlib import Path\n",
    "from utils import plot\n",
    "\n",
    "sys.path.append(\"..\")"
   ]
  },
  {
   "cell_type": "code",
   "execution_count": 49,
   "metadata": {},
   "outputs": [],
   "source": [
    "# Ignore warnings\n",
    "import warnings\n",
    "warnings.filterwarnings('ignore', category = FutureWarning)"
   ]
  },
  {
   "cell_type": "markdown",
   "metadata": {},
   "source": [
    "## Import data set"
   ]
  },
  {
   "cell_type": "code",
   "execution_count": 50,
   "metadata": {},
   "outputs": [],
   "source": [
    "DATASET_ROOT_PATH = \"../data\"\n",
    "os.makedirs(DATASET_ROOT_PATH, exist_ok=True)\n",
    "\n",
    "UNIVERSE_TRAIN = str(Path(DATASET_ROOT_PATH) / \"archive/universe_train.csv\")\n",
    "\n",
    "UNIVERSE_TEST = str(Path(DATASET_ROOT_PATH) / \"archive/universe_test.csv\")\n",
    "\n",
    "BALANCES = str(Path(DATASET_ROOT_PATH) / \"archive/balances.csv\")\n",
    "\n",
    "CUSTOMERS = str(Path(DATASET_ROOT_PATH) / \"archive/customers.csv\")\n",
    "\n",
    "LIABILITIES = str(Path(DATASET_ROOT_PATH) / \"archive/liabilities.csv\")\n",
    "\n",
    "MOVEMENTS = str(Path(DATASET_ROOT_PATH) / \"archive/movements.csv\")\n",
    "\n",
    "SAMPLE_SUBMISSION = str(Path(DATASET_ROOT_PATH) / \"archive/sample_submission.csv\")\n",
    "\n",
    "# Change name file\n",
    "DICCIONARIO_DE_DATOS = str(Path(DATASET_ROOT_PATH) / \"diccionario_de_datos.csv\")\n",
    "\n",
    "DIGITAL = str(Path(DATASET_ROOT_PATH) / \"digital.csv\")\n"
   ]
  },
  {
   "cell_type": "markdown",
   "metadata": {},
   "source": [
    "## Create data frames"
   ]
  },
  {
   "cell_type": "code",
   "execution_count": 6,
   "metadata": {},
   "outputs": [],
   "source": [
    "universe_train = pd.read_csv(\n",
    "    UNIVERSE_TRAIN, delimiter=',', encoding=\"latin1\"\n",
    ")\n",
    "\n",
    "universe_test = pd.read_csv(\n",
    "    UNIVERSE_TEST, delimiter=',', encoding=\"latin1\"\n",
    ")\n",
    "\n",
    "balances = pd.read_csv(\n",
    "    BALANCES, delimiter=',', encoding=\"latin1\"\n",
    ")\n",
    "\n",
    "customers = pd.read_csv(\n",
    "    CUSTOMERS, delimiter=',', encoding=\"latin1\"\n",
    ")\n",
    "\n",
    "movements = pd.read_csv(\n",
    "    MOVEMENTS, delimiter=',', encoding=\"latin1\"\n",
    ")\n",
    "\n",
    "liabilities = pd.read_csv(\n",
    "    LIABILITIES, delimiter=',', encoding=\"latin1\"\n",
    ")\n",
    "\n",
    "sample_submission = pd.read_csv(\n",
    "    SAMPLE_SUBMISSION, delimiter=',', encoding=\"latin1\"\n",
    ")\n",
    "\n",
    "digital = pd.read_csv(\n",
    "    DIGITAL, delimiter=',', encoding=\"latin1\"\n",
    ")\n",
    "\n",
    "\n",
    "diccionario_de_datos = pd.read_csv(\n",
    "    DICCIONARIO_DE_DATOS, delimiter=',', encoding=\"latin1\"\n",
    ")\n",
    "\n"
   ]
  },
  {
   "cell_type": "markdown",
   "metadata": {},
   "source": [
    "### Universe Train "
   ]
  },
  {
   "cell_type": "code",
   "execution_count": 7,
   "metadata": {},
   "outputs": [
    {
     "data": {
      "text/plain": [
       "Index(['ID', 'attrition', 'period'], dtype='object')"
      ]
     },
     "execution_count": 7,
     "metadata": {},
     "output_type": "execute_result"
    }
   ],
   "source": [
    "# Columns\n",
    "universe_train.columns"
   ]
  },
  {
   "cell_type": "code",
   "execution_count": 8,
   "metadata": {},
   "outputs": [
    {
     "name": "stdout",
     "output_type": "stream",
     "text": [
      "ID           535943\n",
      "attrition         6\n",
      "period            6\n",
      "dtype: int64\n"
     ]
    }
   ],
   "source": [
    "num_unique_values = universe_train.nunique() \n",
    "print(num_unique_values)"
   ]
  },
  {
   "cell_type": "code",
   "execution_count": 9,
   "metadata": {},
   "outputs": [
    {
     "name": "stdout",
     "output_type": "stream",
     "text": [
      "Data dimension: 535943 rows and 3 columns\n"
     ]
    },
    {
     "data": {
      "text/html": [
       "<div>\n",
       "<style scoped>\n",
       "    .dataframe tbody tr th:only-of-type {\n",
       "        vertical-align: middle;\n",
       "    }\n",
       "\n",
       "    .dataframe tbody tr th {\n",
       "        vertical-align: top;\n",
       "    }\n",
       "\n",
       "    .dataframe thead th {\n",
       "        text-align: right;\n",
       "    }\n",
       "</style>\n",
       "<table border=\"1\" class=\"dataframe\">\n",
       "  <thead>\n",
       "    <tr style=\"text-align: right;\">\n",
       "      <th></th>\n",
       "      <th>ID</th>\n",
       "      <th>attrition</th>\n",
       "      <th>period</th>\n",
       "    </tr>\n",
       "  </thead>\n",
       "  <tbody>\n",
       "    <tr>\n",
       "      <th>0</th>\n",
       "      <td>4d5a33701cb5b30b0b0a924d80de4ae78fbd0b54e2117f...</td>\n",
       "      <td>0</td>\n",
       "      <td>period_5</td>\n",
       "    </tr>\n",
       "    <tr>\n",
       "      <th>1</th>\n",
       "      <td>bf7092e5f394d266143dfe90b3fc73eac51f0b0084d7a3...</td>\n",
       "      <td>0</td>\n",
       "      <td>period_5</td>\n",
       "    </tr>\n",
       "    <tr>\n",
       "      <th>2</th>\n",
       "      <td>270d8f8f607d19886c50edb7746c3670194134b56d31e2...</td>\n",
       "      <td>0</td>\n",
       "      <td>period_5</td>\n",
       "    </tr>\n",
       "    <tr>\n",
       "      <th>3</th>\n",
       "      <td>5e6b7bea5e4911329669f45728d3398ad54dfe11fbb16d...</td>\n",
       "      <td>0</td>\n",
       "      <td>period_5</td>\n",
       "    </tr>\n",
       "    <tr>\n",
       "      <th>4</th>\n",
       "      <td>98954adf775b9fce1c9e311a025ec3e0a1c6e90f991ef7...</td>\n",
       "      <td>0</td>\n",
       "      <td>period_5</td>\n",
       "    </tr>\n",
       "  </tbody>\n",
       "</table>\n",
       "</div>"
      ],
      "text/plain": [
       "                                                  ID  attrition    period\n",
       "0  4d5a33701cb5b30b0b0a924d80de4ae78fbd0b54e2117f...          0  period_5\n",
       "1  bf7092e5f394d266143dfe90b3fc73eac51f0b0084d7a3...          0  period_5\n",
       "2  270d8f8f607d19886c50edb7746c3670194134b56d31e2...          0  period_5\n",
       "3  5e6b7bea5e4911329669f45728d3398ad54dfe11fbb16d...          0  period_5\n",
       "4  98954adf775b9fce1c9e311a025ec3e0a1c6e90f991ef7...          0  period_5"
      ]
     },
     "execution_count": 9,
     "metadata": {},
     "output_type": "execute_result"
    }
   ],
   "source": [
    "# Data dimension\n",
    "print(f\"Data dimension: {universe_train.shape[0]} rows and {universe_train.shape[1]} columns\")\n",
    "universe_train.head()"
   ]
  },
  {
   "cell_type": "markdown",
   "metadata": {},
   "source": [
    "### Universe Test"
   ]
  },
  {
   "cell_type": "code",
   "execution_count": 10,
   "metadata": {},
   "outputs": [
    {
     "data": {
      "text/plain": [
       "Index(['ID', 'period'], dtype='object')"
      ]
     },
     "execution_count": 10,
     "metadata": {},
     "output_type": "execute_result"
    }
   ],
   "source": [
    "# Columns\n",
    "universe_test.columns"
   ]
  },
  {
   "cell_type": "code",
   "execution_count": 11,
   "metadata": {},
   "outputs": [
    {
     "name": "stdout",
     "output_type": "stream",
     "text": [
      "ID        273636\n",
      "period         3\n",
      "dtype: int64\n"
     ]
    }
   ],
   "source": [
    "num_unique_values = universe_test.nunique() \n",
    "print(num_unique_values)"
   ]
  },
  {
   "cell_type": "code",
   "execution_count": 22,
   "metadata": {},
   "outputs": [
    {
     "name": "stdout",
     "output_type": "stream",
     "text": [
      "Data dimension: 273636 rows and 2 columns\n"
     ]
    },
    {
     "data": {
      "text/html": [
       "<div>\n",
       "<style scoped>\n",
       "    .dataframe tbody tr th:only-of-type {\n",
       "        vertical-align: middle;\n",
       "    }\n",
       "\n",
       "    .dataframe tbody tr th {\n",
       "        vertical-align: top;\n",
       "    }\n",
       "\n",
       "    .dataframe thead th {\n",
       "        text-align: right;\n",
       "    }\n",
       "</style>\n",
       "<table border=\"1\" class=\"dataframe\">\n",
       "  <thead>\n",
       "    <tr style=\"text-align: right;\">\n",
       "      <th></th>\n",
       "      <th>ID</th>\n",
       "      <th>period</th>\n",
       "    </tr>\n",
       "  </thead>\n",
       "  <tbody>\n",
       "    <tr>\n",
       "      <th>0</th>\n",
       "      <td>20b427c65c62ee0177adfa300bbf9f93ba2e46c86d5bc7...</td>\n",
       "      <td>period_9</td>\n",
       "    </tr>\n",
       "    <tr>\n",
       "      <th>1</th>\n",
       "      <td>4881d4a2146002a02279bedb6f0a844af022b4dd1d8b1b...</td>\n",
       "      <td>period_9</td>\n",
       "    </tr>\n",
       "    <tr>\n",
       "      <th>2</th>\n",
       "      <td>28ff12351f215091b54166a09ca44858f3d7f6245f281c...</td>\n",
       "      <td>period_9</td>\n",
       "    </tr>\n",
       "    <tr>\n",
       "      <th>3</th>\n",
       "      <td>5cd2c0dc92c1c5ffa83a94f15756cef5c58174e9d8c69a...</td>\n",
       "      <td>period_9</td>\n",
       "    </tr>\n",
       "    <tr>\n",
       "      <th>4</th>\n",
       "      <td>ceebdd2bbaafd83d8c205e8071b79da5338e9db94c9509...</td>\n",
       "      <td>period_9</td>\n",
       "    </tr>\n",
       "  </tbody>\n",
       "</table>\n",
       "</div>"
      ],
      "text/plain": [
       "                                                  ID    period\n",
       "0  20b427c65c62ee0177adfa300bbf9f93ba2e46c86d5bc7...  period_9\n",
       "1  4881d4a2146002a02279bedb6f0a844af022b4dd1d8b1b...  period_9\n",
       "2  28ff12351f215091b54166a09ca44858f3d7f6245f281c...  period_9\n",
       "3  5cd2c0dc92c1c5ffa83a94f15756cef5c58174e9d8c69a...  period_9\n",
       "4  ceebdd2bbaafd83d8c205e8071b79da5338e9db94c9509...  period_9"
      ]
     },
     "execution_count": 22,
     "metadata": {},
     "output_type": "execute_result"
    }
   ],
   "source": [
    "# Data dimension\n",
    "print(f\"Data dimension: {universe_test.shape[0]} rows and {universe_test.shape[1]} columns\")\n",
    "universe_test.head()"
   ]
  },
  {
   "cell_type": "markdown",
   "metadata": {},
   "source": [
    "### Balances"
   ]
  },
  {
   "cell_type": "code",
   "execution_count": 13,
   "metadata": {},
   "outputs": [
    {
     "data": {
      "text/plain": [
       "Index(['month', 'ID', 'type', 'product', 'entity', 'balance_amount',\n",
       "       'days_default', 'period'],\n",
       "      dtype='object')"
      ]
     },
     "execution_count": 13,
     "metadata": {},
     "output_type": "execute_result"
    }
   ],
   "source": [
    "# Columns\n",
    "balances.columns"
   ]
  },
  {
   "cell_type": "code",
   "execution_count": 14,
   "metadata": {},
   "outputs": [
    {
     "name": "stdout",
     "output_type": "stream",
     "text": [
      "month                 12\n",
      "ID                505697\n",
      "type                   6\n",
      "product                7\n",
      "entity                 5\n",
      "balance_amount     38548\n",
      "days_default         210\n",
      "period                 9\n",
      "dtype: int64\n"
     ]
    }
   ],
   "source": [
    "num_unique_values = balances.nunique() \n",
    "print(num_unique_values)"
   ]
  },
  {
   "cell_type": "code",
   "execution_count": 21,
   "metadata": {},
   "outputs": [
    {
     "name": "stdout",
     "output_type": "stream",
     "text": [
      "Data dimension: 11597785 rows and 8 columns\n"
     ]
    },
    {
     "data": {
      "text/html": [
       "<div>\n",
       "<style scoped>\n",
       "    .dataframe tbody tr th:only-of-type {\n",
       "        vertical-align: middle;\n",
       "    }\n",
       "\n",
       "    .dataframe tbody tr th {\n",
       "        vertical-align: top;\n",
       "    }\n",
       "\n",
       "    .dataframe thead th {\n",
       "        text-align: right;\n",
       "    }\n",
       "</style>\n",
       "<table border=\"1\" class=\"dataframe\">\n",
       "  <thead>\n",
       "    <tr style=\"text-align: right;\">\n",
       "      <th></th>\n",
       "      <th>month</th>\n",
       "      <th>ID</th>\n",
       "      <th>type</th>\n",
       "      <th>product</th>\n",
       "      <th>entity</th>\n",
       "      <th>balance_amount</th>\n",
       "      <th>days_default</th>\n",
       "      <th>period</th>\n",
       "    </tr>\n",
       "  </thead>\n",
       "  <tbody>\n",
       "    <tr>\n",
       "      <th>0</th>\n",
       "      <td>11</td>\n",
       "      <td>c844ef92b32ec94baaf565a3d22cfa20fd1544a0f8efab...</td>\n",
       "      <td>type_7</td>\n",
       "      <td>product_2</td>\n",
       "      <td>entity_2</td>\n",
       "      <td>3.4051</td>\n",
       "      <td>5.0</td>\n",
       "      <td>period_5</td>\n",
       "    </tr>\n",
       "    <tr>\n",
       "      <th>1</th>\n",
       "      <td>10</td>\n",
       "      <td>c817cb3a37a6b640304e87fafd7cd8569bfffb650a5aa3...</td>\n",
       "      <td>type_7</td>\n",
       "      <td>product_2</td>\n",
       "      <td>entity_1</td>\n",
       "      <td>3.4003</td>\n",
       "      <td>5.0</td>\n",
       "      <td>period_5</td>\n",
       "    </tr>\n",
       "    <tr>\n",
       "      <th>2</th>\n",
       "      <td>6</td>\n",
       "      <td>1d1f726d844c5a343cca1bbfd0c2b869559f5910772c5e...</td>\n",
       "      <td>type_7</td>\n",
       "      <td>product_2</td>\n",
       "      <td>entity_5</td>\n",
       "      <td>3.0592</td>\n",
       "      <td>5.0</td>\n",
       "      <td>period_5</td>\n",
       "    </tr>\n",
       "    <tr>\n",
       "      <th>3</th>\n",
       "      <td>6</td>\n",
       "      <td>7c77a3fd230db16988cb2e6ca23779c756f86895dfe254...</td>\n",
       "      <td>type_7</td>\n",
       "      <td>product_2</td>\n",
       "      <td>entity_2</td>\n",
       "      <td>2.8013</td>\n",
       "      <td>5.0</td>\n",
       "      <td>period_5</td>\n",
       "    </tr>\n",
       "    <tr>\n",
       "      <th>4</th>\n",
       "      <td>11</td>\n",
       "      <td>a8702fb4fbdcb735619d6fbd0a5fed46096cdaba80ea35...</td>\n",
       "      <td>type_7</td>\n",
       "      <td>product_2</td>\n",
       "      <td>entity_2</td>\n",
       "      <td>2.9850</td>\n",
       "      <td>5.0</td>\n",
       "      <td>period_5</td>\n",
       "    </tr>\n",
       "  </tbody>\n",
       "</table>\n",
       "</div>"
      ],
      "text/plain": [
       "   month                                                 ID    type  \\\n",
       "0     11  c844ef92b32ec94baaf565a3d22cfa20fd1544a0f8efab...  type_7   \n",
       "1     10  c817cb3a37a6b640304e87fafd7cd8569bfffb650a5aa3...  type_7   \n",
       "2      6  1d1f726d844c5a343cca1bbfd0c2b869559f5910772c5e...  type_7   \n",
       "3      6  7c77a3fd230db16988cb2e6ca23779c756f86895dfe254...  type_7   \n",
       "4     11  a8702fb4fbdcb735619d6fbd0a5fed46096cdaba80ea35...  type_7   \n",
       "\n",
       "     product    entity  balance_amount  days_default    period  \n",
       "0  product_2  entity_2          3.4051           5.0  period_5  \n",
       "1  product_2  entity_1          3.4003           5.0  period_5  \n",
       "2  product_2  entity_5          3.0592           5.0  period_5  \n",
       "3  product_2  entity_2          2.8013           5.0  period_5  \n",
       "4  product_2  entity_2          2.9850           5.0  period_5  "
      ]
     },
     "execution_count": 21,
     "metadata": {},
     "output_type": "execute_result"
    }
   ],
   "source": [
    "# Data dimension\n",
    "print(f\"Data dimension: {balances.shape[0]} rows and {balances.shape[1]} columns\")\n",
    "balances.head()"
   ]
  },
  {
   "cell_type": "markdown",
   "metadata": {},
   "source": [
    "### Customers"
   ]
  },
  {
   "cell_type": "code",
   "execution_count": 16,
   "metadata": {},
   "outputs": [
    {
     "data": {
      "text/plain": [
       "Index(['ID', 'age', 'income', 'time_from_specialized', 'type_job',\n",
       "       'bureau_risk', 'payroll', 'product_1', 'product_2', 'product_3',\n",
       "       'product_4', 'ofert_1', 'ofert_2', 'ofert_3'],\n",
       "      dtype='object')"
      ]
     },
     "execution_count": 16,
     "metadata": {},
     "output_type": "execute_result"
    }
   ],
   "source": [
    "# Columns\n",
    "customers.columns"
   ]
  },
  {
   "cell_type": "code",
   "execution_count": 18,
   "metadata": {},
   "outputs": [
    {
     "name": "stdout",
     "output_type": "stream",
     "text": [
      "ID                       809579\n",
      "age                       15395\n",
      "income                    14072\n",
      "time_from_specialized     20324\n",
      "type_job                      7\n",
      "bureau_risk                   9\n",
      "payroll                   22474\n",
      "product_1                     2\n",
      "product_2                     2\n",
      "product_3                     2\n",
      "product_4                     2\n",
      "ofert_1                       2\n",
      "ofert_2                       2\n",
      "ofert_3                       2\n",
      "dtype: int64\n"
     ]
    }
   ],
   "source": [
    "# Unique values\n",
    "num_unique_values = customers.nunique() \n",
    "print(num_unique_values)"
   ]
  },
  {
   "cell_type": "code",
   "execution_count": 20,
   "metadata": {},
   "outputs": [
    {
     "name": "stdout",
     "output_type": "stream",
     "text": [
      "Data dimension: 809579 rows and 14 columns\n"
     ]
    },
    {
     "data": {
      "text/html": [
       "<div>\n",
       "<style scoped>\n",
       "    .dataframe tbody tr th:only-of-type {\n",
       "        vertical-align: middle;\n",
       "    }\n",
       "\n",
       "    .dataframe tbody tr th {\n",
       "        vertical-align: top;\n",
       "    }\n",
       "\n",
       "    .dataframe thead th {\n",
       "        text-align: right;\n",
       "    }\n",
       "</style>\n",
       "<table border=\"1\" class=\"dataframe\">\n",
       "  <thead>\n",
       "    <tr style=\"text-align: right;\">\n",
       "      <th></th>\n",
       "      <th>ID</th>\n",
       "      <th>age</th>\n",
       "      <th>income</th>\n",
       "      <th>time_from_specialized</th>\n",
       "      <th>type_job</th>\n",
       "      <th>bureau_risk</th>\n",
       "      <th>payroll</th>\n",
       "      <th>product_1</th>\n",
       "      <th>product_2</th>\n",
       "      <th>product_3</th>\n",
       "      <th>product_4</th>\n",
       "      <th>ofert_1</th>\n",
       "      <th>ofert_2</th>\n",
       "      <th>ofert_3</th>\n",
       "    </tr>\n",
       "  </thead>\n",
       "  <tbody>\n",
       "    <tr>\n",
       "      <th>0</th>\n",
       "      <td>42af3bf64c2c14307361e970e76c9653df78b215838971...</td>\n",
       "      <td>4.2484</td>\n",
       "      <td>4.1259</td>\n",
       "      <td>0.0</td>\n",
       "      <td>type_2</td>\n",
       "      <td>category_4</td>\n",
       "      <td>4.8095</td>\n",
       "      <td>Yes</td>\n",
       "      <td>No</td>\n",
       "      <td>No</td>\n",
       "      <td>Yes</td>\n",
       "      <td>No</td>\n",
       "      <td>No</td>\n",
       "      <td>No</td>\n",
       "    </tr>\n",
       "    <tr>\n",
       "      <th>1</th>\n",
       "      <td>5ab9acd6dc30e0e9361ca53e797b40f68841bd698d0926...</td>\n",
       "      <td>4.6903</td>\n",
       "      <td>3.9570</td>\n",
       "      <td>0.0</td>\n",
       "      <td>type_7</td>\n",
       "      <td>category_9</td>\n",
       "      <td>0.0000</td>\n",
       "      <td>No</td>\n",
       "      <td>No</td>\n",
       "      <td>No</td>\n",
       "      <td>Yes</td>\n",
       "      <td>No</td>\n",
       "      <td>No</td>\n",
       "      <td>No</td>\n",
       "    </tr>\n",
       "    <tr>\n",
       "      <th>2</th>\n",
       "      <td>8e40f988dd93417a0a40c32e65386425d891c879fedf4c...</td>\n",
       "      <td>4.1682</td>\n",
       "      <td>4.4640</td>\n",
       "      <td>0.0</td>\n",
       "      <td>type_7</td>\n",
       "      <td>category_5</td>\n",
       "      <td>0.0000</td>\n",
       "      <td>No</td>\n",
       "      <td>No</td>\n",
       "      <td>No</td>\n",
       "      <td>Yes</td>\n",
       "      <td>No</td>\n",
       "      <td>No</td>\n",
       "      <td>No</td>\n",
       "    </tr>\n",
       "    <tr>\n",
       "      <th>3</th>\n",
       "      <td>0e48974ce6e81d9e81a8da780521a2f98fb2385dc879df...</td>\n",
       "      <td>3.9651</td>\n",
       "      <td>4.0966</td>\n",
       "      <td>0.0</td>\n",
       "      <td>type_7</td>\n",
       "      <td>category_3</td>\n",
       "      <td>0.0000</td>\n",
       "      <td>Yes</td>\n",
       "      <td>Yes</td>\n",
       "      <td>Yes</td>\n",
       "      <td>Yes</td>\n",
       "      <td>No</td>\n",
       "      <td>No</td>\n",
       "      <td>No</td>\n",
       "    </tr>\n",
       "    <tr>\n",
       "      <th>4</th>\n",
       "      <td>e033c53b4fb230de5da6868503a9e079b289e064d62de4...</td>\n",
       "      <td>3.9576</td>\n",
       "      <td>4.1876</td>\n",
       "      <td>0.0</td>\n",
       "      <td>type_7</td>\n",
       "      <td>category_5</td>\n",
       "      <td>0.0000</td>\n",
       "      <td>Yes</td>\n",
       "      <td>No</td>\n",
       "      <td>No</td>\n",
       "      <td>Yes</td>\n",
       "      <td>No</td>\n",
       "      <td>No</td>\n",
       "      <td>No</td>\n",
       "    </tr>\n",
       "  </tbody>\n",
       "</table>\n",
       "</div>"
      ],
      "text/plain": [
       "                                                  ID     age  income  \\\n",
       "0  42af3bf64c2c14307361e970e76c9653df78b215838971...  4.2484  4.1259   \n",
       "1  5ab9acd6dc30e0e9361ca53e797b40f68841bd698d0926...  4.6903  3.9570   \n",
       "2  8e40f988dd93417a0a40c32e65386425d891c879fedf4c...  4.1682  4.4640   \n",
       "3  0e48974ce6e81d9e81a8da780521a2f98fb2385dc879df...  3.9651  4.0966   \n",
       "4  e033c53b4fb230de5da6868503a9e079b289e064d62de4...  3.9576  4.1876   \n",
       "\n",
       "   time_from_specialized type_job bureau_risk  payroll product_1 product_2  \\\n",
       "0                    0.0   type_2  category_4   4.8095       Yes        No   \n",
       "1                    0.0   type_7  category_9   0.0000        No        No   \n",
       "2                    0.0   type_7  category_5   0.0000        No        No   \n",
       "3                    0.0   type_7  category_3   0.0000       Yes       Yes   \n",
       "4                    0.0   type_7  category_5   0.0000       Yes        No   \n",
       "\n",
       "  product_3 product_4 ofert_1 ofert_2 ofert_3  \n",
       "0        No       Yes      No      No      No  \n",
       "1        No       Yes      No      No      No  \n",
       "2        No       Yes      No      No      No  \n",
       "3       Yes       Yes      No      No      No  \n",
       "4        No       Yes      No      No      No  "
      ]
     },
     "execution_count": 20,
     "metadata": {},
     "output_type": "execute_result"
    }
   ],
   "source": [
    "# Data dimension\n",
    "print(f\"Data dimension: {customers.shape[0]} rows and {customers.shape[1]} columns\")\n",
    "customers.head()"
   ]
  },
  {
   "cell_type": "markdown",
   "metadata": {},
   "source": [
    "### Liabilities"
   ]
  },
  {
   "cell_type": "code",
   "execution_count": 23,
   "metadata": {},
   "outputs": [
    {
     "data": {
      "text/plain": [
       "Index(['month', 'ID', 'product_1', 'product_2', 'period'], dtype='object')"
      ]
     },
     "execution_count": 23,
     "metadata": {},
     "output_type": "execute_result"
    }
   ],
   "source": [
    "# Columns\n",
    "liabilities.columns"
   ]
  },
  {
   "cell_type": "code",
   "execution_count": 24,
   "metadata": {},
   "outputs": [
    {
     "name": "stdout",
     "output_type": "stream",
     "text": [
      "month            12\n",
      "ID           790580\n",
      "product_1     44516\n",
      "product_2     43130\n",
      "period            9\n",
      "dtype: int64\n"
     ]
    }
   ],
   "source": [
    "# Unique values\n",
    "num_unique_values = liabilities.nunique() \n",
    "print(num_unique_values)"
   ]
  },
  {
   "cell_type": "code",
   "execution_count": 25,
   "metadata": {},
   "outputs": [
    {
     "name": "stdout",
     "output_type": "stream",
     "text": [
      "Data dimension: 8876560 rows and 5 columns\n"
     ]
    },
    {
     "data": {
      "text/html": [
       "<div>\n",
       "<style scoped>\n",
       "    .dataframe tbody tr th:only-of-type {\n",
       "        vertical-align: middle;\n",
       "    }\n",
       "\n",
       "    .dataframe tbody tr th {\n",
       "        vertical-align: top;\n",
       "    }\n",
       "\n",
       "    .dataframe thead th {\n",
       "        text-align: right;\n",
       "    }\n",
       "</style>\n",
       "<table border=\"1\" class=\"dataframe\">\n",
       "  <thead>\n",
       "    <tr style=\"text-align: right;\">\n",
       "      <th></th>\n",
       "      <th>month</th>\n",
       "      <th>ID</th>\n",
       "      <th>product_1</th>\n",
       "      <th>product_2</th>\n",
       "      <th>period</th>\n",
       "    </tr>\n",
       "  </thead>\n",
       "  <tbody>\n",
       "    <tr>\n",
       "      <th>0</th>\n",
       "      <td>11</td>\n",
       "      <td>c7a6cecac361a970ee6c7cb9f2679c38c668940c6ebdc5...</td>\n",
       "      <td>4.1900</td>\n",
       "      <td>0.0</td>\n",
       "      <td>period_5</td>\n",
       "    </tr>\n",
       "    <tr>\n",
       "      <th>1</th>\n",
       "      <td>12</td>\n",
       "      <td>68f89dc7efe7cd1ce3cf6d52d8867bd2b84f236736bf91...</td>\n",
       "      <td>4.4621</td>\n",
       "      <td>0.0</td>\n",
       "      <td>period_5</td>\n",
       "    </tr>\n",
       "    <tr>\n",
       "      <th>2</th>\n",
       "      <td>2</td>\n",
       "      <td>e3f6afb18792d0b97cb9a63ad9567bbd106146c78d212a...</td>\n",
       "      <td>4.2878</td>\n",
       "      <td>0.0</td>\n",
       "      <td>period_5</td>\n",
       "    </tr>\n",
       "    <tr>\n",
       "      <th>3</th>\n",
       "      <td>1</td>\n",
       "      <td>8993170400939d522bdc72707527f5ab90202119fe3cab...</td>\n",
       "      <td>5.0000</td>\n",
       "      <td>5.0</td>\n",
       "      <td>period_5</td>\n",
       "    </tr>\n",
       "    <tr>\n",
       "      <th>4</th>\n",
       "      <td>7</td>\n",
       "      <td>399d686897232a55c713d61a6bdc7e232ab85b864d6288...</td>\n",
       "      <td>3.8922</td>\n",
       "      <td>0.0</td>\n",
       "      <td>period_5</td>\n",
       "    </tr>\n",
       "  </tbody>\n",
       "</table>\n",
       "</div>"
      ],
      "text/plain": [
       "   month                                                 ID  product_1  \\\n",
       "0     11  c7a6cecac361a970ee6c7cb9f2679c38c668940c6ebdc5...     4.1900   \n",
       "1     12  68f89dc7efe7cd1ce3cf6d52d8867bd2b84f236736bf91...     4.4621   \n",
       "2      2  e3f6afb18792d0b97cb9a63ad9567bbd106146c78d212a...     4.2878   \n",
       "3      1  8993170400939d522bdc72707527f5ab90202119fe3cab...     5.0000   \n",
       "4      7  399d686897232a55c713d61a6bdc7e232ab85b864d6288...     3.8922   \n",
       "\n",
       "   product_2    period  \n",
       "0        0.0  period_5  \n",
       "1        0.0  period_5  \n",
       "2        0.0  period_5  \n",
       "3        5.0  period_5  \n",
       "4        0.0  period_5  "
      ]
     },
     "execution_count": 25,
     "metadata": {},
     "output_type": "execute_result"
    }
   ],
   "source": [
    "# Data dimension\n",
    "print(f\"Data dimension: {liabilities.shape[0]} rows and {liabilities.shape[1]} columns\")\n",
    "liabilities.head()"
   ]
  },
  {
   "cell_type": "markdown",
   "metadata": {},
   "source": [
    "### Movements"
   ]
  },
  {
   "cell_type": "code",
   "execution_count": 26,
   "metadata": {},
   "outputs": [
    {
     "data": {
      "text/plain": [
       "Index(['period', 'ID', 'month', 'type_1', 'type_2', 'type_3', 'type_4'], dtype='object')"
      ]
     },
     "execution_count": 26,
     "metadata": {},
     "output_type": "execute_result"
    }
   ],
   "source": [
    "# Columns\n",
    "movements.columns"
   ]
  },
  {
   "cell_type": "code",
   "execution_count": 27,
   "metadata": {},
   "outputs": [
    {
     "name": "stdout",
     "output_type": "stream",
     "text": [
      "period         9\n",
      "ID        528728\n",
      "month         12\n",
      "type_1     37419\n",
      "type_2     31262\n",
      "type_3     32486\n",
      "type_4     35003\n",
      "dtype: int64\n"
     ]
    }
   ],
   "source": [
    "# Unique values\n",
    "num_unique_values = movements.nunique() \n",
    "print(num_unique_values)"
   ]
  },
  {
   "cell_type": "code",
   "execution_count": 28,
   "metadata": {},
   "outputs": [
    {
     "name": "stdout",
     "output_type": "stream",
     "text": [
      "Data dimension: 3697738 rows and 7 columns\n"
     ]
    },
    {
     "data": {
      "text/html": [
       "<div>\n",
       "<style scoped>\n",
       "    .dataframe tbody tr th:only-of-type {\n",
       "        vertical-align: middle;\n",
       "    }\n",
       "\n",
       "    .dataframe tbody tr th {\n",
       "        vertical-align: top;\n",
       "    }\n",
       "\n",
       "    .dataframe thead th {\n",
       "        text-align: right;\n",
       "    }\n",
       "</style>\n",
       "<table border=\"1\" class=\"dataframe\">\n",
       "  <thead>\n",
       "    <tr style=\"text-align: right;\">\n",
       "      <th></th>\n",
       "      <th>period</th>\n",
       "      <th>ID</th>\n",
       "      <th>month</th>\n",
       "      <th>type_1</th>\n",
       "      <th>type_2</th>\n",
       "      <th>type_3</th>\n",
       "      <th>type_4</th>\n",
       "    </tr>\n",
       "  </thead>\n",
       "  <tbody>\n",
       "    <tr>\n",
       "      <th>0</th>\n",
       "      <td>period_9</td>\n",
       "      <td>a66d4bbb5278c8a586e03d81e1be8d3590060d8f37fb8c...</td>\n",
       "      <td>12</td>\n",
       "      <td>0.0000</td>\n",
       "      <td>0.0000</td>\n",
       "      <td>0.0000</td>\n",
       "      <td>3.9437</td>\n",
       "    </tr>\n",
       "    <tr>\n",
       "      <th>1</th>\n",
       "      <td>period_9</td>\n",
       "      <td>0d0a4fb4f1c98add65a45cf8882e1d81848502143f4ae2...</td>\n",
       "      <td>1</td>\n",
       "      <td>3.7397</td>\n",
       "      <td>3.3499</td>\n",
       "      <td>0.0000</td>\n",
       "      <td>0.0000</td>\n",
       "    </tr>\n",
       "    <tr>\n",
       "      <th>2</th>\n",
       "      <td>period_9</td>\n",
       "      <td>a5b9c4d7ae3dfe5cc1c0ca073b0cb0369e1389bfec5c56...</td>\n",
       "      <td>4</td>\n",
       "      <td>3.6273</td>\n",
       "      <td>3.9726</td>\n",
       "      <td>3.6655</td>\n",
       "      <td>4.4131</td>\n",
       "    </tr>\n",
       "    <tr>\n",
       "      <th>3</th>\n",
       "      <td>period_9</td>\n",
       "      <td>8a583965c827c377690b816c90246eaedc499f03a5f25f...</td>\n",
       "      <td>8</td>\n",
       "      <td>3.7855</td>\n",
       "      <td>4.8286</td>\n",
       "      <td>5.0000</td>\n",
       "      <td>4.5094</td>\n",
       "    </tr>\n",
       "    <tr>\n",
       "      <th>4</th>\n",
       "      <td>period_9</td>\n",
       "      <td>e53bf4249c7d6d573d532b8b0bad7ffe2fb203a4f00675...</td>\n",
       "      <td>7</td>\n",
       "      <td>2.6077</td>\n",
       "      <td>3.9344</td>\n",
       "      <td>1.3229</td>\n",
       "      <td>3.8061</td>\n",
       "    </tr>\n",
       "  </tbody>\n",
       "</table>\n",
       "</div>"
      ],
      "text/plain": [
       "     period                                                 ID  month  type_1  \\\n",
       "0  period_9  a66d4bbb5278c8a586e03d81e1be8d3590060d8f37fb8c...     12  0.0000   \n",
       "1  period_9  0d0a4fb4f1c98add65a45cf8882e1d81848502143f4ae2...      1  3.7397   \n",
       "2  period_9  a5b9c4d7ae3dfe5cc1c0ca073b0cb0369e1389bfec5c56...      4  3.6273   \n",
       "3  period_9  8a583965c827c377690b816c90246eaedc499f03a5f25f...      8  3.7855   \n",
       "4  period_9  e53bf4249c7d6d573d532b8b0bad7ffe2fb203a4f00675...      7  2.6077   \n",
       "\n",
       "   type_2  type_3  type_4  \n",
       "0  0.0000  0.0000  3.9437  \n",
       "1  3.3499  0.0000  0.0000  \n",
       "2  3.9726  3.6655  4.4131  \n",
       "3  4.8286  5.0000  4.5094  \n",
       "4  3.9344  1.3229  3.8061  "
      ]
     },
     "execution_count": 28,
     "metadata": {},
     "output_type": "execute_result"
    }
   ],
   "source": [
    "# Data dimension\n",
    "print(f\"Data dimension: {movements.shape[0]} rows and {movements.shape[1]} columns\")\n",
    "movements.head()"
   ]
  },
  {
   "cell_type": "markdown",
   "metadata": {},
   "source": [
    "### Sample Submission"
   ]
  },
  {
   "cell_type": "code",
   "execution_count": 29,
   "metadata": {},
   "outputs": [
    {
     "data": {
      "text/plain": [
       "Index(['period', 'ID', 'target'], dtype='object')"
      ]
     },
     "execution_count": 29,
     "metadata": {},
     "output_type": "execute_result"
    }
   ],
   "source": [
    "# Columns\n",
    "sample_submission.columns"
   ]
  },
  {
   "cell_type": "code",
   "execution_count": 30,
   "metadata": {},
   "outputs": [
    {
     "name": "stdout",
     "output_type": "stream",
     "text": [
      "period         3\n",
      "ID        273636\n",
      "target         1\n",
      "dtype: int64\n"
     ]
    }
   ],
   "source": [
    "# Unique values\n",
    "num_unique_values = sample_submission.nunique() \n",
    "print(num_unique_values)"
   ]
  },
  {
   "cell_type": "code",
   "execution_count": 32,
   "metadata": {},
   "outputs": [
    {
     "name": "stdout",
     "output_type": "stream",
     "text": [
      "Data dimension: 273636 rows and 3 columns\n"
     ]
    },
    {
     "data": {
      "text/html": [
       "<div>\n",
       "<style scoped>\n",
       "    .dataframe tbody tr th:only-of-type {\n",
       "        vertical-align: middle;\n",
       "    }\n",
       "\n",
       "    .dataframe tbody tr th {\n",
       "        vertical-align: top;\n",
       "    }\n",
       "\n",
       "    .dataframe thead th {\n",
       "        text-align: right;\n",
       "    }\n",
       "</style>\n",
       "<table border=\"1\" class=\"dataframe\">\n",
       "  <thead>\n",
       "    <tr style=\"text-align: right;\">\n",
       "      <th></th>\n",
       "      <th>period</th>\n",
       "      <th>ID</th>\n",
       "      <th>target</th>\n",
       "    </tr>\n",
       "  </thead>\n",
       "  <tbody>\n",
       "    <tr>\n",
       "      <th>0</th>\n",
       "      <td>period_9</td>\n",
       "      <td>20b427c65c62ee0177adfa300bbf9f93ba2e46c86d5bc7...</td>\n",
       "      <td>0</td>\n",
       "    </tr>\n",
       "    <tr>\n",
       "      <th>1</th>\n",
       "      <td>period_9</td>\n",
       "      <td>4881d4a2146002a02279bedb6f0a844af022b4dd1d8b1b...</td>\n",
       "      <td>0</td>\n",
       "    </tr>\n",
       "    <tr>\n",
       "      <th>2</th>\n",
       "      <td>period_9</td>\n",
       "      <td>28ff12351f215091b54166a09ca44858f3d7f6245f281c...</td>\n",
       "      <td>0</td>\n",
       "    </tr>\n",
       "    <tr>\n",
       "      <th>3</th>\n",
       "      <td>period_9</td>\n",
       "      <td>5cd2c0dc92c1c5ffa83a94f15756cef5c58174e9d8c69a...</td>\n",
       "      <td>0</td>\n",
       "    </tr>\n",
       "    <tr>\n",
       "      <th>4</th>\n",
       "      <td>period_9</td>\n",
       "      <td>ceebdd2bbaafd83d8c205e8071b79da5338e9db94c9509...</td>\n",
       "      <td>0</td>\n",
       "    </tr>\n",
       "  </tbody>\n",
       "</table>\n",
       "</div>"
      ],
      "text/plain": [
       "     period                                                 ID  target\n",
       "0  period_9  20b427c65c62ee0177adfa300bbf9f93ba2e46c86d5bc7...       0\n",
       "1  period_9  4881d4a2146002a02279bedb6f0a844af022b4dd1d8b1b...       0\n",
       "2  period_9  28ff12351f215091b54166a09ca44858f3d7f6245f281c...       0\n",
       "3  period_9  5cd2c0dc92c1c5ffa83a94f15756cef5c58174e9d8c69a...       0\n",
       "4  period_9  ceebdd2bbaafd83d8c205e8071b79da5338e9db94c9509...       0"
      ]
     },
     "execution_count": 32,
     "metadata": {},
     "output_type": "execute_result"
    }
   ],
   "source": [
    "# Data dimension\n",
    "print(f\"Data dimension: {sample_submission.shape[0]} rows and {sample_submission.shape[1]} columns\")\n",
    "sample_submission.head()"
   ]
  },
  {
   "cell_type": "markdown",
   "metadata": {},
   "source": [
    "### Diccionario de datos"
   ]
  },
  {
   "cell_type": "code",
   "execution_count": 33,
   "metadata": {},
   "outputs": [
    {
     "data": {
      "text/plain": [
       "Index(['Tabla', 'Campo', 'Descripción', 'Ejemplo'], dtype='object')"
      ]
     },
     "execution_count": 33,
     "metadata": {},
     "output_type": "execute_result"
    }
   ],
   "source": [
    "# Columns\n",
    "diccionario_de_datos.columns"
   ]
  },
  {
   "cell_type": "code",
   "execution_count": 34,
   "metadata": {},
   "outputs": [
    {
     "name": "stdout",
     "output_type": "stream",
     "text": [
      "Tabla           6\n",
      "Campo          39\n",
      "Descripción    40\n",
      "Ejemplo        32\n",
      "dtype: int64\n"
     ]
    }
   ],
   "source": [
    "# Unique values\n",
    "num_unique_values = diccionario_de_datos.nunique() \n",
    "print(num_unique_values)"
   ]
  },
  {
   "cell_type": "code",
   "execution_count": 37,
   "metadata": {},
   "outputs": [
    {
     "name": "stdout",
     "output_type": "stream",
     "text": [
      "Data dimension: 50 rows and 4 columns\n"
     ]
    },
    {
     "data": {
      "text/html": [
       "<div>\n",
       "<style scoped>\n",
       "    .dataframe tbody tr th:only-of-type {\n",
       "        vertical-align: middle;\n",
       "    }\n",
       "\n",
       "    .dataframe tbody tr th {\n",
       "        vertical-align: top;\n",
       "    }\n",
       "\n",
       "    .dataframe thead th {\n",
       "        text-align: right;\n",
       "    }\n",
       "</style>\n",
       "<table border=\"1\" class=\"dataframe\">\n",
       "  <thead>\n",
       "    <tr style=\"text-align: right;\">\n",
       "      <th></th>\n",
       "      <th>Tabla</th>\n",
       "      <th>Campo</th>\n",
       "      <th>Descripción</th>\n",
       "      <th>Ejemplo</th>\n",
       "    </tr>\n",
       "  </thead>\n",
       "  <tbody>\n",
       "    <tr>\n",
       "      <th>0</th>\n",
       "      <td>universe</td>\n",
       "      <td>period</td>\n",
       "      <td>Periodo de extracción de los datos</td>\n",
       "      <td>period_1</td>\n",
       "    </tr>\n",
       "    <tr>\n",
       "      <th>1</th>\n",
       "      <td>universe</td>\n",
       "      <td>ID</td>\n",
       "      <td>Identificador único</td>\n",
       "      <td>292d7d9062d3c9e8448dd04236ef3389a04e517d057883...</td>\n",
       "    </tr>\n",
       "    <tr>\n",
       "      <th>2</th>\n",
       "      <td>universe</td>\n",
       "      <td>attrition</td>\n",
       "      <td>Motivo de abandono del segmento objetivo</td>\n",
       "      <td>2</td>\n",
       "    </tr>\n",
       "    <tr>\n",
       "      <th>3</th>\n",
       "      <td>balances</td>\n",
       "      <td>period</td>\n",
       "      <td>Periodo de extracción de los datos (periodo t-0)</td>\n",
       "      <td>period_2</td>\n",
       "    </tr>\n",
       "    <tr>\n",
       "      <th>4</th>\n",
       "      <td>balances</td>\n",
       "      <td>ID</td>\n",
       "      <td>Identificador único</td>\n",
       "      <td>8b5c7e448f921b03ae8fa494e28191829377596e1956a0...</td>\n",
       "    </tr>\n",
       "    <tr>\n",
       "      <th>5</th>\n",
       "      <td>balances</td>\n",
       "      <td>month</td>\n",
       "      <td>Mes de datos (1: indica que es el primer mes (...</td>\n",
       "      <td>6</td>\n",
       "    </tr>\n",
       "    <tr>\n",
       "      <th>6</th>\n",
       "      <td>balances</td>\n",
       "      <td>type</td>\n",
       "      <td>Tipo de crédito (personal, hipotecario, comerc...</td>\n",
       "      <td>type_7</td>\n",
       "    </tr>\n",
       "    <tr>\n",
       "      <th>7</th>\n",
       "      <td>balances</td>\n",
       "      <td>product</td>\n",
       "      <td>Producto (préstamos personal, tarjeta de crédi...</td>\n",
       "      <td>product_2</td>\n",
       "    </tr>\n",
       "    <tr>\n",
       "      <th>8</th>\n",
       "      <td>balances</td>\n",
       "      <td>entity</td>\n",
       "      <td>Institución financiera, puede ser un banco, un...</td>\n",
       "      <td>entity_2</td>\n",
       "    </tr>\n",
       "    <tr>\n",
       "      <th>9</th>\n",
       "      <td>balances</td>\n",
       "      <td>balance_amount</td>\n",
       "      <td>Monto del saldo del crédito</td>\n",
       "      <td>3,816442</td>\n",
       "    </tr>\n",
       "    <tr>\n",
       "      <th>10</th>\n",
       "      <td>balances</td>\n",
       "      <td>days_default</td>\n",
       "      <td>Cantidad de días de atraso en sus pagos (días ...</td>\n",
       "      <td>0</td>\n",
       "    </tr>\n",
       "    <tr>\n",
       "      <th>11</th>\n",
       "      <td>liabilities</td>\n",
       "      <td>month</td>\n",
       "      <td>Mes de datos (1: indica que es el primer mes (...</td>\n",
       "      <td>6</td>\n",
       "    </tr>\n",
       "    <tr>\n",
       "      <th>12</th>\n",
       "      <td>liabilities</td>\n",
       "      <td>period</td>\n",
       "      <td>Periodo de extracción de los datos</td>\n",
       "      <td>period_1</td>\n",
       "    </tr>\n",
       "    <tr>\n",
       "      <th>13</th>\n",
       "      <td>liabilities</td>\n",
       "      <td>ID</td>\n",
       "      <td>Identificador único</td>\n",
       "      <td>292d7d9062d3c9e8448dd04236ef3389a04e517d057883...</td>\n",
       "    </tr>\n",
       "    <tr>\n",
       "      <th>14</th>\n",
       "      <td>liabilities</td>\n",
       "      <td>product_1</td>\n",
       "      <td>Saldo mensual promedio de cuentas de ahorros</td>\n",
       "      <td>1,3245</td>\n",
       "    </tr>\n",
       "    <tr>\n",
       "      <th>15</th>\n",
       "      <td>liabilities</td>\n",
       "      <td>product_2</td>\n",
       "      <td>Saldo mensual promedio de otros tipos de cuentas</td>\n",
       "      <td>0,2344</td>\n",
       "    </tr>\n",
       "    <tr>\n",
       "      <th>16</th>\n",
       "      <td>movements</td>\n",
       "      <td>month</td>\n",
       "      <td>Mes de datos (1: indica que es el primer mes (...</td>\n",
       "      <td>6</td>\n",
       "    </tr>\n",
       "    <tr>\n",
       "      <th>17</th>\n",
       "      <td>movements</td>\n",
       "      <td>period</td>\n",
       "      <td>Periodo de extracción de los datos</td>\n",
       "      <td>period_1</td>\n",
       "    </tr>\n",
       "    <tr>\n",
       "      <th>18</th>\n",
       "      <td>movements</td>\n",
       "      <td>ID</td>\n",
       "      <td>Identificador único</td>\n",
       "      <td>292d7d9062d3c9e8448dd04236ef3389a04e517d057883...</td>\n",
       "    </tr>\n",
       "    <tr>\n",
       "      <th>19</th>\n",
       "      <td>movements</td>\n",
       "      <td>type_1</td>\n",
       "      <td>Monto de compras en supermercados</td>\n",
       "      <td>2,12</td>\n",
       "    </tr>\n",
       "    <tr>\n",
       "      <th>20</th>\n",
       "      <td>movements</td>\n",
       "      <td>type_2</td>\n",
       "      <td>Monto de compras en restaurantes</td>\n",
       "      <td>2,85</td>\n",
       "    </tr>\n",
       "    <tr>\n",
       "      <th>21</th>\n",
       "      <td>movements</td>\n",
       "      <td>type_3</td>\n",
       "      <td>Monto de compras en salud</td>\n",
       "      <td>2,82</td>\n",
       "    </tr>\n",
       "    <tr>\n",
       "      <th>22</th>\n",
       "      <td>movements</td>\n",
       "      <td>type_4</td>\n",
       "      <td>Monto de compras en transporte</td>\n",
       "      <td>3,11</td>\n",
       "    </tr>\n",
       "    <tr>\n",
       "      <th>23</th>\n",
       "      <td>customer</td>\n",
       "      <td>ID</td>\n",
       "      <td>Identificador único</td>\n",
       "      <td>292d7d9062d3c9e8448dd04236ef3389a04e517d057883...</td>\n",
       "    </tr>\n",
       "    <tr>\n",
       "      <th>24</th>\n",
       "      <td>customer</td>\n",
       "      <td>Age</td>\n",
       "      <td>Edad</td>\n",
       "      <td>3,82</td>\n",
       "    </tr>\n",
       "    <tr>\n",
       "      <th>25</th>\n",
       "      <td>customer</td>\n",
       "      <td>Income</td>\n",
       "      <td>Ingreso mensual estimado</td>\n",
       "      <td>4,58</td>\n",
       "    </tr>\n",
       "    <tr>\n",
       "      <th>26</th>\n",
       "      <td>customer</td>\n",
       "      <td>time_from_specialized</td>\n",
       "      <td>Antigüedad profesional</td>\n",
       "      <td>4,54</td>\n",
       "    </tr>\n",
       "    <tr>\n",
       "      <th>27</th>\n",
       "      <td>customer</td>\n",
       "      <td>Type_job</td>\n",
       "      <td>Tipo de empleo: dependiente, independiente, in...</td>\n",
       "      <td>type_2</td>\n",
       "    </tr>\n",
       "    <tr>\n",
       "      <th>28</th>\n",
       "      <td>customer</td>\n",
       "      <td>bureau_risk</td>\n",
       "      <td>Buró de crédito, indica el score según el comp...</td>\n",
       "      <td>category_4</td>\n",
       "    </tr>\n",
       "    <tr>\n",
       "      <th>29</th>\n",
       "      <td>customer</td>\n",
       "      <td>payroll</td>\n",
       "      <td>Monto de pago recibido por nómina</td>\n",
       "      <td>4,41</td>\n",
       "    </tr>\n",
       "    <tr>\n",
       "      <th>30</th>\n",
       "      <td>customer</td>\n",
       "      <td>Product_1</td>\n",
       "      <td>Posee tarjeta de crédito</td>\n",
       "      <td>Yes</td>\n",
       "    </tr>\n",
       "    <tr>\n",
       "      <th>31</th>\n",
       "      <td>customer</td>\n",
       "      <td>Product_2</td>\n",
       "      <td>Posee préstamo personal</td>\n",
       "      <td>Yes</td>\n",
       "    </tr>\n",
       "    <tr>\n",
       "      <th>32</th>\n",
       "      <td>customer</td>\n",
       "      <td>Product_3</td>\n",
       "      <td>Posee préstamo vehicular o préstamos hipotecario</td>\n",
       "      <td>No</td>\n",
       "    </tr>\n",
       "    <tr>\n",
       "      <th>33</th>\n",
       "      <td>customer</td>\n",
       "      <td>Product_4</td>\n",
       "      <td>Posee cuenta(s) de ahorro</td>\n",
       "      <td>Yes</td>\n",
       "    </tr>\n",
       "    <tr>\n",
       "      <th>34</th>\n",
       "      <td>customer</td>\n",
       "      <td>Ofert_1</td>\n",
       "      <td>Tiene oferta de préstamo personal</td>\n",
       "      <td>Yes</td>\n",
       "    </tr>\n",
       "    <tr>\n",
       "      <th>35</th>\n",
       "      <td>customer</td>\n",
       "      <td>Ofert_2</td>\n",
       "      <td>Tiene oferta de tarjeta de crédito</td>\n",
       "      <td>Yes</td>\n",
       "    </tr>\n",
       "    <tr>\n",
       "      <th>36</th>\n",
       "      <td>customer</td>\n",
       "      <td>Ofert_3</td>\n",
       "      <td>Tiene oferta de compra de deuda</td>\n",
       "      <td>No</td>\n",
       "    </tr>\n",
       "    <tr>\n",
       "      <th>37</th>\n",
       "      <td>digital</td>\n",
       "      <td>month</td>\n",
       "      <td>Mes de datos (1: indica que es el primer mes (...</td>\n",
       "      <td>6</td>\n",
       "    </tr>\n",
       "    <tr>\n",
       "      <th>38</th>\n",
       "      <td>digital</td>\n",
       "      <td>ID</td>\n",
       "      <td>Identificador único</td>\n",
       "      <td>292d7d9062d3c9e8448dd04236ef3389a04e517d057883...</td>\n",
       "    </tr>\n",
       "    <tr>\n",
       "      <th>39</th>\n",
       "      <td>digital</td>\n",
       "      <td>dig_1</td>\n",
       "      <td>Mediana del tiempo de duración de las sesiones...</td>\n",
       "      <td>2,12</td>\n",
       "    </tr>\n",
       "    <tr>\n",
       "      <th>40</th>\n",
       "      <td>digital</td>\n",
       "      <td>dig_2</td>\n",
       "      <td>Número de acciones ejecutadas en promedio en u...</td>\n",
       "      <td>2,85</td>\n",
       "    </tr>\n",
       "    <tr>\n",
       "      <th>41</th>\n",
       "      <td>digital</td>\n",
       "      <td>dig_3</td>\n",
       "      <td>Número de secciones diferentes visitadas en pr...</td>\n",
       "      <td>2,82</td>\n",
       "    </tr>\n",
       "    <tr>\n",
       "      <th>42</th>\n",
       "      <td>digital</td>\n",
       "      <td>dig_4</td>\n",
       "      <td>Máximo número de días entre visitas a los plat...</td>\n",
       "      <td>3,11</td>\n",
       "    </tr>\n",
       "    <tr>\n",
       "      <th>43</th>\n",
       "      <td>digital</td>\n",
       "      <td>dig_5</td>\n",
       "      <td>Días promedio entre visitas a las plataformas ...</td>\n",
       "      <td>3,45</td>\n",
       "    </tr>\n",
       "    <tr>\n",
       "      <th>44</th>\n",
       "      <td>digital</td>\n",
       "      <td>dig_6</td>\n",
       "      <td>Antigüedad en plataforma digitales en un mes</td>\n",
       "      <td>3,75</td>\n",
       "    </tr>\n",
       "    <tr>\n",
       "      <th>45</th>\n",
       "      <td>digital</td>\n",
       "      <td>dig_7</td>\n",
       "      <td>Cantidad de visitas a la sección cuentas en un...</td>\n",
       "      <td>4,04</td>\n",
       "    </tr>\n",
       "    <tr>\n",
       "      <th>46</th>\n",
       "      <td>digital</td>\n",
       "      <td>dig_8</td>\n",
       "      <td>Cantidad de inicios de sesión en las plataform...</td>\n",
       "      <td>4,33</td>\n",
       "    </tr>\n",
       "    <tr>\n",
       "      <th>47</th>\n",
       "      <td>digital</td>\n",
       "      <td>dig_9</td>\n",
       "      <td>Cantidad de visitas a la sección posición glob...</td>\n",
       "      <td>4,62</td>\n",
       "    </tr>\n",
       "    <tr>\n",
       "      <th>48</th>\n",
       "      <td>digital</td>\n",
       "      <td>dig_10</td>\n",
       "      <td>Cantidad de visitas a la sección de tarjetas e...</td>\n",
       "      <td>4,92</td>\n",
       "    </tr>\n",
       "    <tr>\n",
       "      <th>49</th>\n",
       "      <td>digital</td>\n",
       "      <td>dig_11</td>\n",
       "      <td>Cantidad de visitas en un mes</td>\n",
       "      <td>3,12</td>\n",
       "    </tr>\n",
       "  </tbody>\n",
       "</table>\n",
       "</div>"
      ],
      "text/plain": [
       "          Tabla                  Campo  \\\n",
       "0      universe                 period   \n",
       "1      universe                     ID   \n",
       "2      universe              attrition   \n",
       "3      balances                 period   \n",
       "4      balances                     ID   \n",
       "5      balances                  month   \n",
       "6      balances                   type   \n",
       "7      balances                product   \n",
       "8      balances                 entity   \n",
       "9      balances         balance_amount   \n",
       "10     balances           days_default   \n",
       "11  liabilities                  month   \n",
       "12  liabilities                 period   \n",
       "13  liabilities                     ID   \n",
       "14  liabilities              product_1   \n",
       "15  liabilities              product_2   \n",
       "16    movements                  month   \n",
       "17    movements                 period   \n",
       "18    movements                     ID   \n",
       "19    movements                 type_1   \n",
       "20    movements                 type_2   \n",
       "21    movements                 type_3   \n",
       "22    movements                 type_4   \n",
       "23     customer                     ID   \n",
       "24     customer                    Age   \n",
       "25     customer                 Income   \n",
       "26     customer  time_from_specialized   \n",
       "27     customer               Type_job   \n",
       "28     customer            bureau_risk   \n",
       "29     customer                payroll   \n",
       "30     customer              Product_1   \n",
       "31     customer              Product_2   \n",
       "32     customer              Product_3   \n",
       "33     customer              Product_4   \n",
       "34     customer                Ofert_1   \n",
       "35     customer                Ofert_2   \n",
       "36     customer                Ofert_3   \n",
       "37      digital                  month   \n",
       "38      digital                     ID   \n",
       "39      digital                  dig_1   \n",
       "40      digital                  dig_2   \n",
       "41      digital                  dig_3   \n",
       "42      digital                  dig_4   \n",
       "43      digital                  dig_5   \n",
       "44      digital                  dig_6   \n",
       "45      digital                  dig_7   \n",
       "46      digital                  dig_8   \n",
       "47      digital                  dig_9   \n",
       "48      digital                 dig_10   \n",
       "49      digital                 dig_11   \n",
       "\n",
       "                                          Descripción  \\\n",
       "0                  Periodo de extracción de los datos   \n",
       "1                                 Identificador único   \n",
       "2            Motivo de abandono del segmento objetivo   \n",
       "3    Periodo de extracción de los datos (periodo t-0)   \n",
       "4                                 Identificador único   \n",
       "5   Mes de datos (1: indica que es el primer mes (...   \n",
       "6   Tipo de crédito (personal, hipotecario, comerc...   \n",
       "7   Producto (préstamos personal, tarjeta de crédi...   \n",
       "8   Institución financiera, puede ser un banco, un...   \n",
       "9                         Monto del saldo del crédito   \n",
       "10  Cantidad de días de atraso en sus pagos (días ...   \n",
       "11  Mes de datos (1: indica que es el primer mes (...   \n",
       "12                 Periodo de extracción de los datos   \n",
       "13                                Identificador único   \n",
       "14       Saldo mensual promedio de cuentas de ahorros   \n",
       "15   Saldo mensual promedio de otros tipos de cuentas   \n",
       "16  Mes de datos (1: indica que es el primer mes (...   \n",
       "17                 Periodo de extracción de los datos   \n",
       "18                                Identificador único   \n",
       "19                  Monto de compras en supermercados   \n",
       "20                   Monto de compras en restaurantes   \n",
       "21                          Monto de compras en salud   \n",
       "22                     Monto de compras en transporte   \n",
       "23                                Identificador único   \n",
       "24                                               Edad   \n",
       "25                           Ingreso mensual estimado   \n",
       "26                             Antigüedad profesional   \n",
       "27  Tipo de empleo: dependiente, independiente, in...   \n",
       "28  Buró de crédito, indica el score según el comp...   \n",
       "29                  Monto de pago recibido por nómina   \n",
       "30                           Posee tarjeta de crédito   \n",
       "31                            Posee préstamo personal   \n",
       "32   Posee préstamo vehicular o préstamos hipotecario   \n",
       "33                          Posee cuenta(s) de ahorro   \n",
       "34                  Tiene oferta de préstamo personal   \n",
       "35                 Tiene oferta de tarjeta de crédito   \n",
       "36                    Tiene oferta de compra de deuda   \n",
       "37  Mes de datos (1: indica que es el primer mes (...   \n",
       "38                                Identificador único   \n",
       "39  Mediana del tiempo de duración de las sesiones...   \n",
       "40  Número de acciones ejecutadas en promedio en u...   \n",
       "41  Número de secciones diferentes visitadas en pr...   \n",
       "42  Máximo número de días entre visitas a los plat...   \n",
       "43  Días promedio entre visitas a las plataformas ...   \n",
       "44       Antigüedad en plataforma digitales en un mes   \n",
       "45  Cantidad de visitas a la sección cuentas en un...   \n",
       "46  Cantidad de inicios de sesión en las plataform...   \n",
       "47  Cantidad de visitas a la sección posición glob...   \n",
       "48  Cantidad de visitas a la sección de tarjetas e...   \n",
       "49                      Cantidad de visitas en un mes   \n",
       "\n",
       "                                              Ejemplo  \n",
       "0                                            period_1  \n",
       "1   292d7d9062d3c9e8448dd04236ef3389a04e517d057883...  \n",
       "2                                                   2  \n",
       "3                                            period_2  \n",
       "4   8b5c7e448f921b03ae8fa494e28191829377596e1956a0...  \n",
       "5                                                   6  \n",
       "6                                              type_7  \n",
       "7                                           product_2  \n",
       "8                                            entity_2  \n",
       "9                                            3,816442  \n",
       "10                                                  0  \n",
       "11                                                  6  \n",
       "12                                           period_1  \n",
       "13  292d7d9062d3c9e8448dd04236ef3389a04e517d057883...  \n",
       "14                                             1,3245  \n",
       "15                                             0,2344  \n",
       "16                                                  6  \n",
       "17                                           period_1  \n",
       "18  292d7d9062d3c9e8448dd04236ef3389a04e517d057883...  \n",
       "19                                               2,12  \n",
       "20                                               2,85  \n",
       "21                                               2,82  \n",
       "22                                               3,11  \n",
       "23  292d7d9062d3c9e8448dd04236ef3389a04e517d057883...  \n",
       "24                                               3,82  \n",
       "25                                               4,58  \n",
       "26                                               4,54  \n",
       "27                                             type_2  \n",
       "28                                         category_4  \n",
       "29                                               4,41  \n",
       "30                                                Yes  \n",
       "31                                                Yes  \n",
       "32                                                 No  \n",
       "33                                                Yes  \n",
       "34                                                Yes  \n",
       "35                                                Yes  \n",
       "36                                                 No  \n",
       "37                                                  6  \n",
       "38  292d7d9062d3c9e8448dd04236ef3389a04e517d057883...  \n",
       "39                                               2,12  \n",
       "40                                               2,85  \n",
       "41                                               2,82  \n",
       "42                                               3,11  \n",
       "43                                               3,45  \n",
       "44                                               3,75  \n",
       "45                                               4,04  \n",
       "46                                               4,33  \n",
       "47                                               4,62  \n",
       "48                                               4,92  \n",
       "49                                               3,12  "
      ]
     },
     "execution_count": 37,
     "metadata": {},
     "output_type": "execute_result"
    }
   ],
   "source": [
    "# Data dimension\n",
    "print(f\"Data dimension: {diccionario_de_datos.shape[0]} rows and {diccionario_de_datos.shape[1]} columns\")\n",
    "diccionario_de_datos"
   ]
  },
  {
   "cell_type": "code",
   "execution_count": 46,
   "metadata": {},
   "outputs": [
    {
     "data": {
      "text/plain": [
       "0                    Periodo de extracción de los datos\n",
       "1                                   Identificador único\n",
       "2              Motivo de abandono del segmento objetivo\n",
       "3      Periodo de extracción de los datos (periodo t-0)\n",
       "4                                   Identificador único\n",
       "5     Mes de datos (1: indica que es el primer mes (...\n",
       "6     Tipo de crédito (personal, hipotecario, comerc...\n",
       "7     Producto (préstamos personal, tarjeta de crédi...\n",
       "8     Institución financiera, puede ser un banco, un...\n",
       "9                           Monto del saldo del crédito\n",
       "10    Cantidad de días de atraso en sus pagos (días ...\n",
       "11    Mes de datos (1: indica que es el primer mes (...\n",
       "12                   Periodo de extracción de los datos\n",
       "13                                  Identificador único\n",
       "14         Saldo mensual promedio de cuentas de ahorros\n",
       "15     Saldo mensual promedio de otros tipos de cuentas\n",
       "16    Mes de datos (1: indica que es el primer mes (...\n",
       "17                   Periodo de extracción de los datos\n",
       "18                                  Identificador único\n",
       "19                    Monto de compras en supermercados\n",
       "20                     Monto de compras en restaurantes\n",
       "21                            Monto de compras en salud\n",
       "22                       Monto de compras en transporte\n",
       "23                                  Identificador único\n",
       "24                                                 Edad\n",
       "25                             Ingreso mensual estimado\n",
       "26                               Antigüedad profesional\n",
       "27    Tipo de empleo: dependiente, independiente, in...\n",
       "28    Buró de crédito, indica el score según el comp...\n",
       "29                    Monto de pago recibido por nómina\n",
       "30                             Posee tarjeta de crédito\n",
       "31                              Posee préstamo personal\n",
       "32     Posee préstamo vehicular o préstamos hipotecario\n",
       "33                            Posee cuenta(s) de ahorro\n",
       "34                    Tiene oferta de préstamo personal\n",
       "35                   Tiene oferta de tarjeta de crédito\n",
       "36                      Tiene oferta de compra de deuda\n",
       "37    Mes de datos (1: indica que es el primer mes (...\n",
       "38                                  Identificador único\n",
       "39    Mediana del tiempo de duración de las sesiones...\n",
       "40    Número de acciones ejecutadas en promedio en u...\n",
       "41    Número de secciones diferentes visitadas en pr...\n",
       "42    Máximo número de días entre visitas a los plat...\n",
       "43    Días promedio entre visitas a las plataformas ...\n",
       "44         Antigüedad en plataforma digitales en un mes\n",
       "45    Cantidad de visitas a la sección cuentas en un...\n",
       "46    Cantidad de inicios de sesión en las plataform...\n",
       "47    Cantidad de visitas a la sección posición glob...\n",
       "48    Cantidad de visitas a la sección de tarjetas e...\n",
       "49                        Cantidad de visitas en un mes\n",
       "Name: Descripción, dtype: object"
      ]
     },
     "execution_count": 46,
     "metadata": {},
     "output_type": "execute_result"
    }
   ],
   "source": [
    "diccionario_de_datos.Descripción"
   ]
  },
  {
   "cell_type": "markdown",
   "metadata": {},
   "source": [
    "### Digital"
   ]
  },
  {
   "cell_type": "code",
   "execution_count": 38,
   "metadata": {},
   "outputs": [
    {
     "data": {
      "text/plain": [
       "Index(['month', 'ID', 'dig_1', 'dig_2', 'dig_3', 'dig_4', 'dig_5', 'dig_6',\n",
       "       'dig_7', 'dig_8', 'dig_9', 'dig_10', 'dig_11', 'period'],\n",
       "      dtype='object')"
      ]
     },
     "execution_count": 38,
     "metadata": {},
     "output_type": "execute_result"
    }
   ],
   "source": [
    "# Columns\n",
    "digital.columns"
   ]
  },
  {
   "cell_type": "code",
   "execution_count": 39,
   "metadata": {},
   "outputs": [
    {
     "name": "stdout",
     "output_type": "stream",
     "text": [
      "month         12\n",
      "ID        645641\n",
      "dig_1       8757\n",
      "dig_2      42234\n",
      "dig_3      31818\n",
      "dig_4         69\n",
      "dig_5      19206\n",
      "dig_6       7571\n",
      "dig_7        147\n",
      "dig_8        214\n",
      "dig_9        209\n",
      "dig_10       124\n",
      "dig_11       206\n",
      "period         9\n",
      "dtype: int64\n"
     ]
    }
   ],
   "source": [
    "# Unique values\n",
    "num_unique_values = digital.nunique() \n",
    "print(num_unique_values)"
   ]
  },
  {
   "cell_type": "code",
   "execution_count": 40,
   "metadata": {},
   "outputs": [
    {
     "name": "stdout",
     "output_type": "stream",
     "text": [
      "Data dimension: 6379650 rows and 14 columns\n"
     ]
    },
    {
     "data": {
      "text/html": [
       "<div>\n",
       "<style scoped>\n",
       "    .dataframe tbody tr th:only-of-type {\n",
       "        vertical-align: middle;\n",
       "    }\n",
       "\n",
       "    .dataframe tbody tr th {\n",
       "        vertical-align: top;\n",
       "    }\n",
       "\n",
       "    .dataframe thead th {\n",
       "        text-align: right;\n",
       "    }\n",
       "</style>\n",
       "<table border=\"1\" class=\"dataframe\">\n",
       "  <thead>\n",
       "    <tr style=\"text-align: right;\">\n",
       "      <th></th>\n",
       "      <th>month</th>\n",
       "      <th>ID</th>\n",
       "      <th>dig_1</th>\n",
       "      <th>dig_2</th>\n",
       "      <th>dig_3</th>\n",
       "      <th>dig_4</th>\n",
       "      <th>dig_5</th>\n",
       "      <th>dig_6</th>\n",
       "      <th>dig_7</th>\n",
       "      <th>dig_8</th>\n",
       "      <th>dig_9</th>\n",
       "      <th>dig_10</th>\n",
       "      <th>dig_11</th>\n",
       "      <th>period</th>\n",
       "    </tr>\n",
       "  </thead>\n",
       "  <tbody>\n",
       "    <tr>\n",
       "      <th>0</th>\n",
       "      <td>9</td>\n",
       "      <td>bdc817ca1b6ba0deb42d70bee75e4a4e1a1df5d3c9578c...</td>\n",
       "      <td>0.7329</td>\n",
       "      <td>2.2512</td>\n",
       "      <td>2.9029</td>\n",
       "      <td>3.8084</td>\n",
       "      <td>3.0466</td>\n",
       "      <td>3.2779</td>\n",
       "      <td>0.0000</td>\n",
       "      <td>1.0905</td>\n",
       "      <td>2.2750</td>\n",
       "      <td>0.0000</td>\n",
       "      <td>1.7480</td>\n",
       "      <td>period_9</td>\n",
       "    </tr>\n",
       "    <tr>\n",
       "      <th>1</th>\n",
       "      <td>3</td>\n",
       "      <td>7474e915adcf95e11cd85fe1dcb660fee704697ae31f87...</td>\n",
       "      <td>4.2287</td>\n",
       "      <td>4.6974</td>\n",
       "      <td>2.9029</td>\n",
       "      <td>2.7366</td>\n",
       "      <td>2.2263</td>\n",
       "      <td>4.1667</td>\n",
       "      <td>1.9824</td>\n",
       "      <td>1.0905</td>\n",
       "      <td>1.6208</td>\n",
       "      <td>0.0000</td>\n",
       "      <td>0.9672</td>\n",
       "      <td>period_9</td>\n",
       "    </tr>\n",
       "    <tr>\n",
       "      <th>2</th>\n",
       "      <td>11</td>\n",
       "      <td>506ff183d63da44a9106db1202b2b9cc53ca680ddca44d...</td>\n",
       "      <td>1.7268</td>\n",
       "      <td>3.8201</td>\n",
       "      <td>2.7194</td>\n",
       "      <td>2.5198</td>\n",
       "      <td>1.4561</td>\n",
       "      <td>4.2153</td>\n",
       "      <td>4.2105</td>\n",
       "      <td>2.1810</td>\n",
       "      <td>3.6138</td>\n",
       "      <td>0.0000</td>\n",
       "      <td>3.3457</td>\n",
       "      <td>period_9</td>\n",
       "    </tr>\n",
       "    <tr>\n",
       "      <th>3</th>\n",
       "      <td>4</td>\n",
       "      <td>f59effceec688938accd3f6b5d0684edb2ad484e7bef40...</td>\n",
       "      <td>0.0326</td>\n",
       "      <td>1.6499</td>\n",
       "      <td>1.6981</td>\n",
       "      <td>3.7114</td>\n",
       "      <td>2.9214</td>\n",
       "      <td>3.0473</td>\n",
       "      <td>0.0000</td>\n",
       "      <td>1.0905</td>\n",
       "      <td>2.2750</td>\n",
       "      <td>1.1569</td>\n",
       "      <td>1.7480</td>\n",
       "      <td>period_9</td>\n",
       "    </tr>\n",
       "    <tr>\n",
       "      <th>4</th>\n",
       "      <td>3</td>\n",
       "      <td>a0d7da88c4d28b52afba4f4bfa066356042bb0bfe8be8b...</td>\n",
       "      <td>2.1337</td>\n",
       "      <td>4.0528</td>\n",
       "      <td>3.3814</td>\n",
       "      <td>2.9244</td>\n",
       "      <td>1.3486</td>\n",
       "      <td>4.3069</td>\n",
       "      <td>3.6679</td>\n",
       "      <td>1.7284</td>\n",
       "      <td>3.5024</td>\n",
       "      <td>0.0000</td>\n",
       "      <td>3.2128</td>\n",
       "      <td>period_9</td>\n",
       "    </tr>\n",
       "  </tbody>\n",
       "</table>\n",
       "</div>"
      ],
      "text/plain": [
       "   month                                                 ID   dig_1   dig_2  \\\n",
       "0      9  bdc817ca1b6ba0deb42d70bee75e4a4e1a1df5d3c9578c...  0.7329  2.2512   \n",
       "1      3  7474e915adcf95e11cd85fe1dcb660fee704697ae31f87...  4.2287  4.6974   \n",
       "2     11  506ff183d63da44a9106db1202b2b9cc53ca680ddca44d...  1.7268  3.8201   \n",
       "3      4  f59effceec688938accd3f6b5d0684edb2ad484e7bef40...  0.0326  1.6499   \n",
       "4      3  a0d7da88c4d28b52afba4f4bfa066356042bb0bfe8be8b...  2.1337  4.0528   \n",
       "\n",
       "    dig_3   dig_4   dig_5   dig_6   dig_7   dig_8   dig_9  dig_10  dig_11  \\\n",
       "0  2.9029  3.8084  3.0466  3.2779  0.0000  1.0905  2.2750  0.0000  1.7480   \n",
       "1  2.9029  2.7366  2.2263  4.1667  1.9824  1.0905  1.6208  0.0000  0.9672   \n",
       "2  2.7194  2.5198  1.4561  4.2153  4.2105  2.1810  3.6138  0.0000  3.3457   \n",
       "3  1.6981  3.7114  2.9214  3.0473  0.0000  1.0905  2.2750  1.1569  1.7480   \n",
       "4  3.3814  2.9244  1.3486  4.3069  3.6679  1.7284  3.5024  0.0000  3.2128   \n",
       "\n",
       "     period  \n",
       "0  period_9  \n",
       "1  period_9  \n",
       "2  period_9  \n",
       "3  period_9  \n",
       "4  period_9  "
      ]
     },
     "execution_count": 40,
     "metadata": {},
     "output_type": "execute_result"
    }
   ],
   "source": [
    "# Data dimension\n",
    "print(f\"Data dimension: {digital.shape[0]} rows and {digital.shape[1]} columns\")\n",
    "digital.head()"
   ]
  },
  {
   "cell_type": "code",
   "execution_count": null,
   "metadata": {},
   "outputs": [],
   "source": []
  },
  {
   "cell_type": "markdown",
   "metadata": {},
   "source": [
    "## Data preprocessing"
   ]
  },
  {
   "cell_type": "markdown",
   "metadata": {},
   "source": [
    "### Universe train data"
   ]
  },
  {
   "cell_type": "markdown",
   "metadata": {},
   "source": [
    "#### Scale measurement"
   ]
  },
  {
   "cell_type": "markdown",
   "metadata": {},
   "source": [
    "The `.info()` function will show us the metadata or information about the columns in a data frame. It undirectly specifies the scale measurement of the given columns in a data frame. However, it can be misleading. So, we must modify the scale measurement or column types based on column characteristic."
   ]
  },
  {
   "cell_type": "code",
   "execution_count": 41,
   "metadata": {},
   "outputs": [
    {
     "name": "stdout",
     "output_type": "stream",
     "text": [
      "<class 'pandas.core.frame.DataFrame'>\n",
      "RangeIndex: 535943 entries, 0 to 535942\n",
      "Data columns (total 3 columns):\n",
      " #   Column     Non-Null Count   Dtype \n",
      "---  ------     --------------   ----- \n",
      " 0   ID         535943 non-null  object\n",
      " 1   attrition  535943 non-null  int64 \n",
      " 2   period     535943 non-null  object\n",
      "dtypes: int64(1), object(2)\n",
      "memory usage: 12.3+ MB\n"
     ]
    }
   ],
   "source": [
    "# Data frame metadata\n",
    "universe_train.info()"
   ]
  },
  {
   "cell_type": "code",
   "execution_count": 42,
   "metadata": {},
   "outputs": [
    {
     "name": "stdout",
     "output_type": "stream",
     "text": [
      "Number of numerical columns in the DataFrame: 1\n",
      "List of numerical columns: \n",
      "Index(['attrition'], dtype='object')\n"
     ]
    }
   ],
   "source": [
    "# Show numerical columns\n",
    "numerical_columns = universe_train.select_dtypes(include='number').columns\n",
    "\n",
    "print(f\"Number of numerical columns in the DataFrame: {len(numerical_columns)}\")\n",
    "print(f\"List of numerical columns: \\n{numerical_columns}\")"
   ]
  },
  {
   "cell_type": "markdown",
   "metadata": {},
   "source": [
    "## Exploratory Data Analysis (EDA)"
   ]
  },
  {
   "cell_type": "markdown",
   "metadata": {},
   "source": [
    "### Universe train data"
   ]
  },
  {
   "cell_type": "markdown",
   "metadata": {},
   "source": [
    "#### Distribution target column"
   ]
  },
  {
   "cell_type": "code",
   "execution_count": 51,
   "metadata": {},
   "outputs": [
    {
     "name": "stdout",
     "output_type": "stream",
     "text": [
      "   Value   Count  Percentage\n",
      "0      0  464075   86.590365\n",
      "1      1   47171    8.801496\n",
      "2      5    8489    1.583937\n",
      "3      4    6893    1.286144\n",
      "4      2    5929    1.106274\n",
      "5      3    3386    0.631784\n"
     ]
    },
    {
     "data": {
      "image/png": "[encoded data removed]",
      "text/plain": [
       "<Figure size 600x200 with 1 Axes>"
      ]
     },
     "metadata": {},
     "output_type": "display_data"
    }
   ],
   "source": [
    "plot.plot_target_variable_distribution(universe_train, \"attrition\")"
   ]
  },
  {
   "cell_type": "code",
   "execution_count": null,
   "metadata": {},
   "outputs": [],
   "source": []
  }
 ],
 "metadata": {
  "kernelspec": {
   "display_name": "sprint_2",
   "language": "python",
   "name": "sprint_2"
  },
  "language_info": {
   "codemirror_mode": {
    "name": "ipython",
    "version": 3
   },
   "file_extension": ".py",
   "mimetype": "text/x-python",
   "name": "python",
   "nbconvert_exporter": "python",
   "pygments_lexer": "ipython3",
   "version": "3.11.2"
  },
  "orig_nbformat": 4
 },
 "nbformat": 4,
 "nbformat_minor": 2
}
